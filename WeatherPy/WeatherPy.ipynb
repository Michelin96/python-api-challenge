{
 "cells": [
  {
   "cell_type": "markdown",
   "metadata": {},
   "source": [
    "# WeatherPy\n",
    "----"
   ]
  },
  {
   "cell_type": "code",
   "execution_count": 4,
   "metadata": {
    "scrolled": true
   },
   "outputs": [],
   "source": [
    "# Dependencies and Setup\n",
    "import matplotlib.pyplot as plt\n",
    "import pandas as pd\n",
    "import numpy as np\n",
    "import json\n",
    "import requests\n",
    "import time\n",
    "from scipy.stats import linregress\n",
    "\n",
    "# Import API key\n",
    "from api_keys import weather_api_key\n",
    "\n",
    "# Incorporated citipy to determine city based on latitude and longitude\n",
    "from citipy import citipy\n",
    "\n",
    "# Output File (CSV)\n",
    "output_data_file = \"output_data/cities.csv\"\n",
    "\n",
    "# Range of latitudes and longitudes\n",
    "lat_range = (-90, 90)\n",
    "lng_range = (-180, 180)"
   ]
  },
  {
   "cell_type": "markdown",
   "metadata": {},
   "source": [
    "## Generate Cities List"
   ]
  },
  {
   "cell_type": "code",
   "execution_count": 16,
   "metadata": {},
   "outputs": [
    {
     "data": {
      "text/plain": [
       "10"
      ]
     },
     "execution_count": 16,
     "metadata": {},
     "output_type": "execute_result"
    }
   ],
   "source": [
    "# List for holding lat_lngs and cities\n",
    "lat_lngs = []\n",
    "cities = []\n",
    "\n",
    "# Create a set of random lat and lng combinations\n",
    "lats = np.random.uniform(lat_range[0], lat_range[1], size=10)\n",
    "lngs = np.random.uniform(lng_range[0], lng_range[1], size=10)\n",
    "lat_lngs = zip(lats, lngs)\n",
    "\n",
    "# Identify nearest city for each lat, lng combination\n",
    "for lat_lng in lat_lngs:\n",
    "    city = citipy.nearest_city(lat_lng[0], lat_lng[1]).city_name\n",
    "    \n",
    "    # If the city is unique, then add it to a our cities list\n",
    "    if city not in cities:\n",
    "        cities.append(city)\n",
    "\n",
    "# Print the city count to confirm sufficient count\n",
    "len(cities)"
   ]
  },
  {
   "cell_type": "code",
   "execution_count": 17,
   "metadata": {},
   "outputs": [],
   "source": [
    "#Stuff needed for csv read/write\n",
    "#  # Store filepath in a variable\n",
    "# file_one = \"Resources/DataOne.csv\"\n",
    "#  # Read our Data file with the pandas library\n",
    "# # Not every CSV requires an encoding, but be aware this can come up\n",
    "# file_one_df = pd.read_csv(file_one, encoding=\"ISO-8859-1\")\n",
    "#  # Show mulitple specific columns--note the extra brackets\n",
    "# file_one_df[[\"first_name\", \"email\"]].head()\n",
    "#  # Export file as a CSV, without the Pandas index, but with the header\n",
    "# file_one_df.to_csv(\"Output/fileOne.csv\", encoding=\"utf-8\", index=False, header=True)"
   ]
  },
  {
   "cell_type": "markdown",
   "metadata": {},
   "source": [
    "### Perform API Calls\n",
    "* Perform a weather check on each city using a series of successive API calls.\n",
    "* Include a print log of each city as it'sbeing processed (with the city number and city name).\n"
   ]
  },
  {
   "cell_type": "code",
   "execution_count": 21,
   "metadata": {},
   "outputs": [
    {
     "name": "stdout",
     "output_type": "stream",
     "text": [
      "Beginning Data Retrieval\n",
      "----------------------\n",
      "Processing butaritari\n",
      "{\n",
      "   \"base\": \"stations\",\n",
      "   \"clouds\": {\n",
      "      \"all\": 99\n",
      "   },\n",
      "   \"cod\": 200,\n",
      "   \"coord\": {\n",
      "      \"lat\": 3.07,\n",
      "      \"lon\": 172.79\n",
      "   },\n",
      "   \"dt\": 1595893814,\n",
      "   \"id\": 2110227,\n",
      "   \"main\": {\n",
      "      \"feels_like\": 304.2,\n",
      "      \"grnd_level\": 1006,\n",
      "      \"humidity\": 80,\n",
      "      \"pressure\": 1007,\n",
      "      \"sea_level\": 1007,\n",
      "      \"temp\": 301.42,\n",
      "      \"temp_max\": 301.42,\n",
      "      \"temp_min\": 301.42\n",
      "   },\n",
      "   \"name\": \"Butaritari\",\n",
      "   \"sys\": {\n",
      "      \"country\": \"KI\",\n",
      "      \"sunrise\": 1595874448,\n",
      "      \"sunset\": 1595918578\n",
      "   },\n",
      "   \"timezone\": 43200,\n",
      "   \"visibility\": 10000,\n",
      "   \"weather\": [\n",
      "      {\n",
      "         \"description\": \"overcast clouds\",\n",
      "         \"icon\": \"04d\",\n",
      "         \"id\": 804,\n",
      "         \"main\": \"Clouds\"\n",
      "      }\n",
      "   ],\n",
      "   \"wind\": {\n",
      "      \"deg\": 109,\n",
      "      \"speed\": 4.75\n",
      "   }\n",
      "}\n",
      "Processing albany\n",
      "{\n",
      "   \"base\": \"stations\",\n",
      "   \"clouds\": {\n",
      "      \"all\": 12\n",
      "   },\n",
      "   \"cod\": 200,\n",
      "   \"coord\": {\n",
      "      \"lat\": 42.6,\n",
      "      \"lon\": -73.97\n",
      "   },\n",
      "   \"dt\": 1595893815,\n",
      "   \"id\": 5106841,\n",
      "   \"main\": {\n",
      "      \"feels_like\": 306.72,\n",
      "      \"humidity\": 51,\n",
      "      \"pressure\": 1002,\n",
      "      \"temp\": 304.57,\n",
      "      \"temp_max\": 305.93,\n",
      "      \"temp_min\": 303.71\n",
      "   },\n",
      "   \"name\": \"Albany\",\n",
      "   \"sys\": {\n",
      "      \"country\": \"US\",\n",
      "      \"id\": 19530,\n",
      "      \"sunrise\": 1595842987,\n",
      "      \"sunset\": 1595895685,\n",
      "      \"type\": 3\n",
      "   },\n",
      "   \"timezone\": -14400,\n",
      "   \"visibility\": 10000,\n",
      "   \"weather\": [\n",
      "      {\n",
      "         \"description\": \"few clouds\",\n",
      "         \"icon\": \"02d\",\n",
      "         \"id\": 801,\n",
      "         \"main\": \"Clouds\"\n",
      "      }\n",
      "   ],\n",
      "   \"wind\": {\n",
      "      \"deg\": 273,\n",
      "      \"gust\": 4.47,\n",
      "      \"speed\": 2.24\n",
      "   }\n",
      "}\n",
      "Processing naze\n",
      "{\n",
      "   \"base\": \"stations\",\n",
      "   \"clouds\": {\n",
      "      \"all\": 40\n",
      "   },\n",
      "   \"cod\": 200,\n",
      "   \"coord\": {\n",
      "      \"lat\": 28.37,\n",
      "      \"lon\": 129.48\n",
      "   },\n",
      "   \"dt\": 1595893815,\n",
      "   \"id\": 1855540,\n",
      "   \"main\": {\n",
      "      \"feels_like\": 307.3,\n",
      "      \"humidity\": 84,\n",
      "      \"pressure\": 1012,\n",
      "      \"temp\": 303.15,\n",
      "      \"temp_max\": 303.15,\n",
      "      \"temp_min\": 303.15\n",
      "   },\n",
      "   \"name\": \"Naze\",\n",
      "   \"sys\": {\n",
      "      \"country\": \"JP\",\n",
      "      \"id\": 8013,\n",
      "      \"sunrise\": 1595882497,\n",
      "      \"sunset\": 1595931317,\n",
      "      \"type\": 1\n",
      "   },\n",
      "   \"timezone\": 32400,\n",
      "   \"visibility\": 10000,\n",
      "   \"weather\": [\n",
      "      {\n",
      "         \"description\": \"scattered clouds\",\n",
      "         \"icon\": \"03d\",\n",
      "         \"id\": 802,\n",
      "         \"main\": \"Clouds\"\n",
      "      }\n",
      "   ],\n",
      "   \"wind\": {\n",
      "      \"deg\": 150,\n",
      "      \"speed\": 5.1\n",
      "   }\n",
      "}\n",
      "Processing kahului\n",
      "{\n",
      "   \"base\": \"stations\",\n",
      "   \"clouds\": {\n",
      "      \"all\": 20\n",
      "   },\n",
      "   \"cod\": 200,\n",
      "   \"coord\": {\n",
      "      \"lat\": 20.89,\n",
      "      \"lon\": -156.47\n",
      "   },\n",
      "   \"dt\": 1595893634,\n",
      "   \"id\": 5847411,\n",
      "   \"main\": {\n",
      "      \"feels_like\": 294.42,\n",
      "      \"humidity\": 49,\n",
      "      \"pressure\": 1015,\n",
      "      \"temp\": 300.99,\n",
      "      \"temp_max\": 305.15,\n",
      "      \"temp_min\": 298.71\n",
      "   },\n",
      "   \"name\": \"Kahului\",\n",
      "   \"sys\": {\n",
      "      \"country\": \"US\",\n",
      "      \"id\": 7879,\n",
      "      \"sunrise\": 1595865495,\n",
      "      \"sunset\": 1595912776,\n",
      "      \"type\": 1\n",
      "   },\n",
      "   \"timezone\": -36000,\n",
      "   \"visibility\": 10000,\n",
      "   \"weather\": [\n",
      "      {\n",
      "         \"description\": \"few clouds\",\n",
      "         \"icon\": \"02d\",\n",
      "         \"id\": 801,\n",
      "         \"main\": \"Clouds\"\n",
      "      }\n",
      "   ],\n",
      "   \"wind\": {\n",
      "      \"deg\": 70,\n",
      "      \"gust\": 17.5,\n",
      "      \"speed\": 12.3\n",
      "   }\n",
      "}\n",
      "Processing vaini\n",
      "{\n",
      "   \"base\": \"stations\",\n",
      "   \"clouds\": {\n",
      "      \"all\": 40\n",
      "   },\n",
      "   \"cod\": 200,\n",
      "   \"coord\": {\n",
      "      \"lat\": -21.2,\n",
      "      \"lon\": -175.2\n",
      "   },\n",
      "   \"dt\": 1595893815,\n",
      "   \"id\": 4032243,\n",
      "   \"main\": {\n",
      "      \"feels_like\": 296.25,\n",
      "      \"humidity\": 83,\n",
      "      \"pressure\": 1018,\n",
      "      \"temp\": 296.15,\n",
      "      \"temp_max\": 296.15,\n",
      "      \"temp_min\": 296.15\n",
      "   },\n",
      "   \"name\": \"Vaini\",\n",
      "   \"sys\": {\n",
      "      \"country\": \"TO\",\n",
      "      \"id\": 7285,\n",
      "      \"sunrise\": 1595960019,\n",
      "      \"sunset\": 1596000040,\n",
      "      \"type\": 1\n",
      "   },\n",
      "   \"timezone\": 46800,\n",
      "   \"visibility\": 10000,\n",
      "   \"weather\": [\n",
      "      {\n",
      "         \"description\": \"scattered clouds\",\n",
      "         \"icon\": \"03n\",\n",
      "         \"id\": 802,\n",
      "         \"main\": \"Clouds\"\n",
      "      }\n",
      "   ],\n",
      "   \"wind\": {\n",
      "      \"deg\": 140,\n",
      "      \"gust\": 10.3,\n",
      "      \"speed\": 5.1\n",
      "   }\n",
      "}\n",
      "Processing chokurdakh\n",
      "{\n",
      "   \"base\": \"stations\",\n",
      "   \"clouds\": {\n",
      "      \"all\": 100\n",
      "   },\n",
      "   \"cod\": 200,\n",
      "   \"coord\": {\n",
      "      \"lat\": 70.63,\n",
      "      \"lon\": 147.92\n",
      "   },\n",
      "   \"dt\": 1595893712,\n",
      "   \"id\": 2126123,\n",
      "   \"main\": {\n",
      "      \"feels_like\": 278.86,\n",
      "      \"grnd_level\": 1006,\n",
      "      \"humidity\": 60,\n",
      "      \"pressure\": 1011,\n",
      "      \"sea_level\": 1011,\n",
      "      \"temp\": 281.62,\n",
      "      \"temp_max\": 281.62,\n",
      "      \"temp_min\": 281.62\n",
      "   },\n",
      "   \"name\": \"Chokurdakh\",\n",
      "   \"sys\": {\n",
      "      \"country\": \"RU\",\n",
      "      \"sunrise\": 0,\n",
      "      \"sunset\": 0\n",
      "   },\n",
      "   \"timezone\": 39600,\n",
      "   \"visibility\": 10000,\n",
      "   \"weather\": [\n",
      "      {\n",
      "         \"description\": \"overcast clouds\",\n",
      "         \"icon\": \"04n\",\n",
      "         \"id\": 804,\n",
      "         \"main\": \"Clouds\"\n",
      "      }\n",
      "   ],\n",
      "   \"wind\": {\n",
      "      \"deg\": 268,\n",
      "      \"speed\": 1.35\n",
      "   }\n",
      "}\n",
      "Processing rikitea\n",
      "{\n",
      "   \"base\": \"stations\",\n",
      "   \"clouds\": {\n",
      "      \"all\": 73\n",
      "   },\n",
      "   \"cod\": 200,\n",
      "   \"coord\": {\n",
      "      \"lat\": -23.12,\n",
      "      \"lon\": -134.97\n",
      "   },\n",
      "   \"dt\": 1595893955,\n",
      "   \"id\": 4030556,\n",
      "   \"main\": {\n",
      "      \"feels_like\": 294.72,\n",
      "      \"grnd_level\": 1016,\n",
      "      \"humidity\": 78,\n",
      "      \"pressure\": 1019,\n",
      "      \"sea_level\": 1019,\n",
      "      \"temp\": 295.58,\n",
      "      \"temp_max\": 295.58,\n",
      "      \"temp_min\": 295.58\n",
      "   },\n",
      "   \"name\": \"Rikitea\",\n",
      "   \"sys\": {\n",
      "      \"country\": \"PF\",\n",
      "      \"sunrise\": 1595864175,\n",
      "      \"sunset\": 1595903776\n",
      "   },\n",
      "   \"timezone\": -32400,\n",
      "   \"visibility\": 10000,\n",
      "   \"weather\": [\n",
      "      {\n",
      "         \"description\": \"broken clouds\",\n",
      "         \"icon\": \"04d\",\n",
      "         \"id\": 803,\n",
      "         \"main\": \"Clouds\"\n",
      "      }\n",
      "   ],\n",
      "   \"wind\": {\n",
      "      \"deg\": 61,\n",
      "      \"speed\": 5.47\n",
      "   }\n",
      "}\n",
      "Processing acaponeta\n",
      "{\n",
      "   \"base\": \"stations\",\n",
      "   \"clouds\": {\n",
      "      \"all\": 100\n",
      "   },\n",
      "   \"cod\": 200,\n",
      "   \"coord\": {\n",
      "      \"lat\": 22.5,\n",
      "      \"lon\": -105.36\n",
      "   },\n",
      "   \"dt\": 1595893955,\n",
      "   \"id\": 4019819,\n",
      "   \"main\": {\n",
      "      \"feels_like\": 301.81,\n",
      "      \"grnd_level\": 1008,\n",
      "      \"humidity\": 90,\n",
      "      \"pressure\": 1012,\n",
      "      \"sea_level\": 1012,\n",
      "      \"temp\": 297.54,\n",
      "      \"temp_max\": 297.54,\n",
      "      \"temp_min\": 297.54\n",
      "   },\n",
      "   \"name\": \"Acaponeta\",\n",
      "   \"rain\": {\n",
      "      \"1h\": 0.56\n",
      "   },\n",
      "   \"sys\": {\n",
      "      \"country\": \"MX\",\n",
      "      \"sunrise\": 1595853066,\n",
      "      \"sunset\": 1595900672\n",
      "   },\n",
      "   \"timezone\": -21600,\n",
      "   \"visibility\": 10000,\n",
      "   \"weather\": [\n",
      "      {\n",
      "         \"description\": \"light rain\",\n",
      "         \"icon\": \"10d\",\n",
      "         \"id\": 500,\n",
      "         \"main\": \"Rain\"\n",
      "      }\n",
      "   ],\n",
      "   \"wind\": {\n",
      "      \"deg\": 48,\n",
      "      \"speed\": 1.11\n",
      "   }\n",
      "}\n",
      "Processing vaitupu\n",
      "{\n",
      "   \"cod\": \"404\",\n",
      "   \"message\": \"city not found\"\n",
      "}\n",
      "Processing ocos\n",
      "{\n",
      "   \"base\": \"stations\",\n",
      "   \"clouds\": {\n",
      "      \"all\": 75\n",
      "   },\n",
      "   \"cod\": 200,\n",
      "   \"coord\": {\n",
      "      \"lat\": 14.51,\n",
      "      \"lon\": -92.19\n",
      "   },\n",
      "   \"dt\": 1595893713,\n",
      "   \"id\": 3592086,\n",
      "   \"main\": {\n",
      "      \"feels_like\": 305.45,\n",
      "      \"humidity\": 94,\n",
      "      \"pressure\": 1011,\n",
      "      \"temp\": 299.74,\n",
      "      \"temp_max\": 301.15,\n",
      "      \"temp_min\": 298.15\n",
      "   },\n",
      "   \"name\": \"Oc\\u00f3s\",\n",
      "   \"sys\": {\n",
      "      \"country\": \"GT\",\n",
      "      \"id\": 7171,\n",
      "      \"sunrise\": 1595850659,\n",
      "      \"sunset\": 1595896758,\n",
      "      \"type\": 1\n",
      "   },\n",
      "   \"timezone\": -21600,\n",
      "   \"visibility\": 10000,\n",
      "   \"weather\": [\n",
      "      {\n",
      "         \"description\": \"thunderstorm\",\n",
      "         \"icon\": \"11d\",\n",
      "         \"id\": 211,\n",
      "         \"main\": \"Thunderstorm\"\n",
      "      }\n",
      "   ],\n",
      "   \"wind\": {\n",
      "      \"deg\": 240,\n",
      "      \"speed\": 1.5\n",
      "   }\n",
      "}\n",
      "----------------------\n",
      "Data Retrieval Complete\n",
      "----------------------\n"
     ]
    }
   ],
   "source": [
    "# Base URL from the OpenWeatherMap API\n",
    "url = \"http://api.openweathermap.org/data/2.5/weather?\"\n",
    "\n",
    "# Create the query URL\n",
    "query_url = f\"{url}appid={weather_api_key}&q=\"\n",
    "\n",
    "# #Run a query to get the weather data for each city in the cites list\n",
    "print(\"Beginning Data Retrieval\\n----------------------\")\n",
    "for city in cities:\n",
    "    try:\n",
    "        print(f\"Processing {city}\")\n",
    "        query = query_url + city  \n",
    "        response = requests.get(query).json()\n",
    "        #Get the pretty printed JSON\n",
    "        print(json.dumps(response, indent=3, sort_keys=True))\n",
    "        print()\n",
    "    # Handle exceptions for a city that is not found in OpenWeatherMap\n",
    "    except:\n",
    "        print(\"City not found. Skipping...\")\n",
    "        pass\n",
    "print(\"----------------------\\nData Retrieval Complete\\n----------------------\")\n",
    "\n",
    "\n",
    "        \n",
    "  \n",
    "\n",
    "        "
   ]
  },
  {
   "cell_type": "code",
   "execution_count": null,
   "metadata": {},
   "outputs": [],
   "source": []
  },
  {
   "cell_type": "markdown",
   "metadata": {},
   "source": [
    "### Convert Raw Data to DataFrame\n",
    "* Export the city data into a .csv.\n",
    "* Display the DataFrame"
   ]
  },
  {
   "cell_type": "code",
   "execution_count": null,
   "metadata": {},
   "outputs": [],
   "source": [
    "#  # Show mulitple specific columns--note the extra brackets\n",
    "# file_one_df[[\"first_name\", \"email\"]].head()\n",
    "#  # Export file as a CSV, without the Pandas index, but with the header\n",
    "# file_one_df.to_csv(\"Output/fileOne.csv\", encoding=\"utf-8\", index=False, header=True)"
   ]
  },
  {
   "cell_type": "code",
   "execution_count": null,
   "metadata": {},
   "outputs": [],
   "source": []
  },
  {
   "cell_type": "code",
   "execution_count": null,
   "metadata": {},
   "outputs": [],
   "source": []
  },
  {
   "cell_type": "markdown",
   "metadata": {},
   "source": [
    "## Inspect the data and remove the cities where the humidity > 100%.\n",
    "----\n",
    "Skip this step if there are no cities that have humidity > 100%. "
   ]
  },
  {
   "cell_type": "code",
   "execution_count": null,
   "metadata": {},
   "outputs": [],
   "source": []
  },
  {
   "cell_type": "code",
   "execution_count": null,
   "metadata": {},
   "outputs": [],
   "source": [
    "#  Get the indices of cities that have humidity over 100%.\n"
   ]
  },
  {
   "cell_type": "code",
   "execution_count": null,
   "metadata": {},
   "outputs": [],
   "source": [
    "# Make a new DataFrame equal to the city data to drop all humidity outliers by index.\n",
    "# Passing \"inplace=False\" will make a copy of the city_data DataFrame, which we call \"clean_city_data\".\n"
   ]
  },
  {
   "cell_type": "code",
   "execution_count": null,
   "metadata": {},
   "outputs": [],
   "source": [
    "# Extract relevant fields from the data frame\n",
    "\n",
    "\n",
    "# Export the City_Data into a csv\n"
   ]
  },
  {
   "cell_type": "markdown",
   "metadata": {},
   "source": [
    "## Plotting the Data\n",
    "* Use proper labeling of the plots using plot titles (including date of analysis) and axes labels.\n",
    "* Save the plotted figures as .pngs."
   ]
  },
  {
   "cell_type": "markdown",
   "metadata": {},
   "source": [
    "## Latitude vs. Temperature Plot"
   ]
  },
  {
   "cell_type": "code",
   "execution_count": null,
   "metadata": {
    "scrolled": true
   },
   "outputs": [],
   "source": [
    "#  # Plot out rooms versus median house price\n",
    "# x=lat, y=weather\n",
    "# x_values = housing_data['RM']\n",
    "# y_values = housing_data['MEDV']\n",
    "# plt.scatter(x_values,y_values)\n",
    "# plt.xlabel('Rooms in House')\n",
    "# plt.ylabel('Median House Prices ($1000)')\n",
    "# plt.show()"
   ]
  },
  {
   "cell_type": "markdown",
   "metadata": {},
   "source": [
    "## Latitude vs. Humidity Plot"
   ]
  },
  {
   "cell_type": "code",
   "execution_count": null,
   "metadata": {},
   "outputs": [],
   "source": []
  },
  {
   "cell_type": "markdown",
   "metadata": {},
   "source": [
    "## Latitude vs. Cloudiness Plot"
   ]
  },
  {
   "cell_type": "code",
   "execution_count": null,
   "metadata": {},
   "outputs": [],
   "source": []
  },
  {
   "cell_type": "markdown",
   "metadata": {},
   "source": [
    "## Latitude vs. Wind Speed Plot"
   ]
  },
  {
   "cell_type": "code",
   "execution_count": null,
   "metadata": {},
   "outputs": [],
   "source": []
  },
  {
   "cell_type": "markdown",
   "metadata": {},
   "source": [
    "## Linear Regression"
   ]
  },
  {
   "cell_type": "code",
   "execution_count": null,
   "metadata": {},
   "outputs": [],
   "source": [
    "# OPTIONAL: Create a function to create Linear Regression plots\n",
    "#def linear_regression(x_axis, y_axis)\n",
    "# # Add the linear regression equation and line to plot\n",
    "# x_values = housing_data['RM']\n",
    "# y_values = housing_data['MEDV']\n",
    "# (slope, intercept, rvalue, pvalue, stderr) = linregress(x_values, y_values)\n",
    "# regress_values = x_values * slope + intercept\n",
    "# line_eq = \"y = \" + str(round(slope,2)) + \"x + \" + str(round(intercept,2))\n",
    "# plt.scatter(x_values,y_values)\n",
    "# plt.plot(x_values,regress_values,\"r-\")\n",
    "# plt.annotate(line_eq,(6,10),fontsize=15,color=\"red\")\n",
    "# plt.xlabel('Rooms in House')\n",
    "# plt.ylabel('Median House Prices ($1000)')\n",
    "# plt.show()"
   ]
  },
  {
   "cell_type": "code",
   "execution_count": null,
   "metadata": {},
   "outputs": [],
   "source": [
    "# Create Northern and Southern Hemisphere DataFrames"
   ]
  },
  {
   "cell_type": "markdown",
   "metadata": {},
   "source": [
    "####  Northern Hemisphere - Max Temp vs. Latitude Linear Regression"
   ]
  },
  {
   "cell_type": "code",
   "execution_count": null,
   "metadata": {},
   "outputs": [],
   "source": [
    "# # Add the linear regression equation and line to plot\n",
    "# x_values = housing_data['RM']\n",
    "# y_values = housing_data['MEDV']\n",
    "# (slope, intercept, rvalue, pvalue, stderr) = linregress(x_values, y_values)\n",
    "# regress_values = x_values * slope + intercept\n",
    "# line_eq = \"y = \" + str(round(slope,2)) + \"x + \" + str(round(intercept,2))\n",
    "# plt.scatter(x_values,y_values)\n",
    "# plt.plot(x_values,regress_values,\"r-\")\n",
    "# plt.annotate(line_eq,(6,10),fontsize=15,color=\"red\")\n",
    "# plt.xlabel('Rooms in House')\n",
    "# plt.ylabel('Median House Prices ($1000)')\n",
    "# print(f\"The r-squared is: {rvalue**2}\")\n",
    "# plt.show()"
   ]
  },
  {
   "cell_type": "code",
   "execution_count": null,
   "metadata": {},
   "outputs": [],
   "source": []
  },
  {
   "cell_type": "markdown",
   "metadata": {},
   "source": [
    "####  Southern Hemisphere - Max Temp vs. Latitude Linear Regression"
   ]
  },
  {
   "cell_type": "code",
   "execution_count": null,
   "metadata": {},
   "outputs": [],
   "source": []
  },
  {
   "cell_type": "markdown",
   "metadata": {},
   "source": [
    "####  Northern Hemisphere - Humidity (%) vs. Latitude Linear Regression"
   ]
  },
  {
   "cell_type": "code",
   "execution_count": null,
   "metadata": {},
   "outputs": [],
   "source": []
  },
  {
   "cell_type": "markdown",
   "metadata": {},
   "source": [
    "####  Southern Hemisphere - Humidity (%) vs. Latitude Linear Regression"
   ]
  },
  {
   "cell_type": "code",
   "execution_count": null,
   "metadata": {},
   "outputs": [],
   "source": []
  },
  {
   "cell_type": "markdown",
   "metadata": {},
   "source": [
    "####  Northern Hemisphere - Cloudiness (%) vs. Latitude Linear Regression"
   ]
  },
  {
   "cell_type": "code",
   "execution_count": null,
   "metadata": {},
   "outputs": [],
   "source": []
  },
  {
   "cell_type": "markdown",
   "metadata": {},
   "source": [
    "####  Southern Hemisphere - Cloudiness (%) vs. Latitude Linear Regression"
   ]
  },
  {
   "cell_type": "code",
   "execution_count": null,
   "metadata": {},
   "outputs": [],
   "source": []
  },
  {
   "cell_type": "markdown",
   "metadata": {},
   "source": [
    "####  Northern Hemisphere - Wind Speed (mph) vs. Latitude Linear Regression"
   ]
  },
  {
   "cell_type": "code",
   "execution_count": null,
   "metadata": {},
   "outputs": [],
   "source": []
  },
  {
   "cell_type": "markdown",
   "metadata": {},
   "source": [
    "####  Southern Hemisphere - Wind Speed (mph) vs. Latitude Linear Regression"
   ]
  },
  {
   "cell_type": "code",
   "execution_count": null,
   "metadata": {},
   "outputs": [],
   "source": []
  },
  {
   "cell_type": "code",
   "execution_count": null,
   "metadata": {},
   "outputs": [],
   "source": []
  }
 ],
 "metadata": {
  "anaconda-cloud": {},
  "kernel_info": {
   "name": "python3"
  },
  "kernelspec": {
   "display_name": "Python 3",
   "language": "python",
   "name": "python3"
  },
  "language_info": {
   "codemirror_mode": {
    "name": "ipython",
    "version": 3
   },
   "file_extension": ".py",
   "mimetype": "text/x-python",
   "name": "python",
   "nbconvert_exporter": "python",
   "pygments_lexer": "ipython3",
   "version": "3.7.6"
  },
  "latex_envs": {
   "LaTeX_envs_menu_present": true,
   "autoclose": false,
   "autocomplete": true,
   "bibliofile": "biblio.bib",
   "cite_by": "apalike",
   "current_citInitial": 1,
   "eqLabelWithNumbers": true,
   "eqNumInitial": 1,
   "hotkeys": {
    "equation": "Ctrl-E",
    "itemize": "Ctrl-I"
   },
   "labels_anchors": false,
   "latex_user_defs": false,
   "report_style_numbering": false,
   "user_envs_cfg": false
  },
  "nteract": {
   "version": "0.12.3"
  }
 },
 "nbformat": 4,
 "nbformat_minor": 2
}
