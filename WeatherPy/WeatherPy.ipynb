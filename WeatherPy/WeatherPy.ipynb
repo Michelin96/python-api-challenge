{
 "cells": [
  {
   "cell_type": "markdown",
   "metadata": {},
   "source": [
    "# WeatherPy\n",
    "----"
   ]
  },
  {
   "cell_type": "code",
   "execution_count": 51,
   "metadata": {
    "scrolled": true
   },
   "outputs": [],
   "source": [
    "# Dependencies and Setup\n",
    "import matplotlib.pyplot as plt\n",
    "import pandas as pd\n",
    "import numpy as np\n",
    "import json\n",
    "import requests\n",
    "import time\n",
    "from scipy.stats import linregress\n",
    "\n",
    "# Import API key\n",
    "from config import weather_api_key\n",
    "\n",
    "# Incorporated citipy to determine city based on latitude and longitude\n",
    "from citipy import citipy\n",
    "\n",
    "# Output File (CSV)\n",
    "output_data_file = \"output_data/cities.csv\"\n",
    "\n",
    "# Range of latitudes and longitudes\n",
    "lat_range = (-90, 90)\n",
    "lng_range = (-180, 180)"
   ]
  },
  {
   "cell_type": "markdown",
   "metadata": {},
   "source": [
    "## Generate Cities List"
   ]
  },
  {
   "cell_type": "code",
   "execution_count": 54,
   "metadata": {},
   "outputs": [
    {
     "data": {
      "text/plain": [
       "10"
      ]
     },
     "execution_count": 54,
     "metadata": {},
     "output_type": "execute_result"
    }
   ],
   "source": [
    "# List for holding lat_lngs and cities\n",
    "lat_lngs = []\n",
    "cities = []\n",
    "\n",
    "# Create a set of random lat and lng combinations\n",
    "lats = np.random.uniform(lat_range[0], lat_range[1], size=10)\n",
    "lngs = np.random.uniform(lng_range[0], lng_range[1], size=10)\n",
    "lat_lngs = zip(lats, lngs)\n",
    "\n",
    "# Identify nearest city for each lat, lng combination\n",
    "for lat_lng in lat_lngs:\n",
    "    city = citipy.nearest_city(lat_lng[0], lat_lng[1]).city_name\n",
    "    \n",
    "    # If the city is unique, then add it to a our cities list\n",
    "    if city not in cities:\n",
    "        cities.append(city)\n",
    "\n",
    "# Print the city count to confirm sufficient count\n",
    "len(cities)"
   ]
  },
  {
   "cell_type": "code",
   "execution_count": 55,
   "metadata": {},
   "outputs": [],
   "source": [
    "#Stuff needed for csv read/write\n",
    "#  # Store filepath in a variable\n",
    "# file_one = \"Resources/DataOne.csv\"\n",
    "#  # Read our Data file with the pandas library\n",
    "# # Not every CSV requires an encoding, but be aware this can come up\n",
    "# file_one_df = pd.read_csv(file_one, encoding=\"ISO-8859-1\")\n",
    "#  # Show mulitple specific columns--note the extra brackets\n",
    "# file_one_df[[\"first_name\", \"email\"]].head()\n",
    "#  # Export file as a CSV, without the Pandas index, but with the header\n",
    "# file_one_df.to_csv(\"Output/fileOne.csv\", encoding=\"utf-8\", index=False, header=True)"
   ]
  },
  {
   "cell_type": "markdown",
   "metadata": {},
   "source": [
    "### Perform API Calls"
   ]
  },
  {
   "cell_type": "code",
   "execution_count": 65,
   "metadata": {},
   "outputs": [
    {
     "name": "stdout",
     "output_type": "stream",
     "text": [
      "Beginning Data Retrieval\n",
      "----------------------\n",
      "Processing...City Name: pinotepa nacional \n",
      "             City ID: 3516926\n",
      "Processing...City Name: saint george \n",
      "             City ID: 5546220\n",
      "Processing...City Name: college \n",
      "             City ID: 5859699\n",
      "Processing...City Name: khatanga \n",
      "             City ID: 2022572\n",
      "Processing...City Name: nanortalik \n",
      "             City ID: 3421765\n",
      "Processing...City Name: yellowknife \n",
      "             City ID: 6185377\n",
      "Processing...City Name: rikitea \n",
      "             City ID: 4030556\n",
      "Processing...City Name: new norfolk \n",
      "             City ID: 2155415\n",
      "Processing...City Name: katobu \n",
      "             City ID: 1640972\n",
      "Processing...City Name: butaritari \n",
      "             City ID: 2110227\n",
      "----------------------\n",
      "Data Retrieval Complete\n",
      "----------------------\n",
      "[85.69, 102.76, 57.04, 54.72, 47.3, 72.9, 72.25, 38.44, 72.66, 80.28]\n",
      "[16.32, 37.1, 64.86, 71.97, 60.14, 62.46, -23.12, -42.78, -4.94, 3.07]\n"
     ]
    }
   ],
   "source": [
    "# Base URL from the OpenWeatherMap API\n",
    "url = \"http://api.openweathermap.org/data/2.5/weather?\"\n",
    "\n",
    "# Create the query URL\n",
    "query_url = f\"{url}appid={weather_api_key}&units=imperial&q=\"\n",
    "\n",
    "#Create lists to store the data\n",
    "city_name= []\n",
    "city_id = []\n",
    "lat = []\n",
    "temp = []\n",
    "humid = []\n",
    "clouds = []\n",
    "wind = []\n",
    "\n",
    "#Running a query to get the weather data for each city in the cites list\n",
    "print(\"Beginning Data Retrieval\\n----------------------\")\n",
    "for city in cities:\n",
    "    try:\n",
    "        query = query_url + city  \n",
    "        city_data = requests.get(query).json()\n",
    "        #Print out each city and its ID as it is being processed\n",
    "        id_number = city_data['id']\n",
    "        #print(json.dumps(city_data, indent=4))\n",
    "        print('''Processing...City Name: {0} \n",
    "             City ID: {1}'''.format(city, id_number))    \n",
    "        #Each element of data is being appended to a coorsponding list as it is processed\n",
    "        city_name.append(city_data['name'])\n",
    "        city_id.append(city_data['id'])\n",
    "        lat.append(city_data['coord']['lat'])\n",
    "        temp.append(city_data['main']['temp'])\n",
    "        humid.append(city_data['main']['humidity'])\n",
    "        clouds.append(city_data['clouds']['all'])\n",
    "        wind.append(city_data['wind']['speed'])  \n",
    "    # If the city is not found in OpenWeatherMap, skip it\n",
    "    except:\n",
    "        print(\"City not found. Skipping...\")\n",
    "        pass\n",
    "print(\"----------------------\\nData Retrieval Complete\\n----------------------\")\n",
    "       "
   ]
  },
  {
   "cell_type": "markdown",
   "metadata": {},
   "source": [
    "### Convert Raw Data to DataFrame"
   ]
  },
  {
   "cell_type": "code",
   "execution_count": 67,
   "metadata": {
    "scrolled": true
   },
   "outputs": [
    {
     "data": {
      "text/html": [
       "<div>\n",
       "<style scoped>\n",
       "    .dataframe tbody tr th:only-of-type {\n",
       "        vertical-align: middle;\n",
       "    }\n",
       "\n",
       "    .dataframe tbody tr th {\n",
       "        vertical-align: top;\n",
       "    }\n",
       "\n",
       "    .dataframe thead th {\n",
       "        text-align: right;\n",
       "    }\n",
       "</style>\n",
       "<table border=\"1\" class=\"dataframe\">\n",
       "  <thead>\n",
       "    <tr style=\"text-align: right;\">\n",
       "      <th></th>\n",
       "      <th>City Name</th>\n",
       "      <th>City ID</th>\n",
       "      <th>Latitude</th>\n",
       "      <th>Temp(F)</th>\n",
       "      <th>Humidity(%)</th>\n",
       "      <th>Cloudiness(%)</th>\n",
       "      <th>Wind Speed(mph)</th>\n",
       "    </tr>\n",
       "  </thead>\n",
       "  <tbody>\n",
       "    <tr>\n",
       "      <th>0</th>\n",
       "      <td>Pinotepa Nacional</td>\n",
       "      <td>3516926</td>\n",
       "      <td>16.32</td>\n",
       "      <td>85.69</td>\n",
       "      <td>68</td>\n",
       "      <td>94</td>\n",
       "      <td>7.43</td>\n",
       "    </tr>\n",
       "    <tr>\n",
       "      <th>1</th>\n",
       "      <td>Saint George</td>\n",
       "      <td>5546220</td>\n",
       "      <td>37.10</td>\n",
       "      <td>102.76</td>\n",
       "      <td>14</td>\n",
       "      <td>1</td>\n",
       "      <td>6.93</td>\n",
       "    </tr>\n",
       "    <tr>\n",
       "      <th>2</th>\n",
       "      <td>College</td>\n",
       "      <td>5859699</td>\n",
       "      <td>64.86</td>\n",
       "      <td>57.04</td>\n",
       "      <td>63</td>\n",
       "      <td>90</td>\n",
       "      <td>8.05</td>\n",
       "    </tr>\n",
       "    <tr>\n",
       "      <th>3</th>\n",
       "      <td>Khatanga</td>\n",
       "      <td>2022572</td>\n",
       "      <td>71.97</td>\n",
       "      <td>54.72</td>\n",
       "      <td>62</td>\n",
       "      <td>0</td>\n",
       "      <td>3.31</td>\n",
       "    </tr>\n",
       "    <tr>\n",
       "      <th>4</th>\n",
       "      <td>Nanortalik</td>\n",
       "      <td>3421765</td>\n",
       "      <td>60.14</td>\n",
       "      <td>47.30</td>\n",
       "      <td>93</td>\n",
       "      <td>100</td>\n",
       "      <td>9.17</td>\n",
       "    </tr>\n",
       "    <tr>\n",
       "      <th>5</th>\n",
       "      <td>Yellowknife</td>\n",
       "      <td>6185377</td>\n",
       "      <td>62.46</td>\n",
       "      <td>72.90</td>\n",
       "      <td>43</td>\n",
       "      <td>40</td>\n",
       "      <td>10.29</td>\n",
       "    </tr>\n",
       "    <tr>\n",
       "      <th>6</th>\n",
       "      <td>Rikitea</td>\n",
       "      <td>4030556</td>\n",
       "      <td>-23.12</td>\n",
       "      <td>72.25</td>\n",
       "      <td>76</td>\n",
       "      <td>95</td>\n",
       "      <td>18.43</td>\n",
       "    </tr>\n",
       "    <tr>\n",
       "      <th>7</th>\n",
       "      <td>New Norfolk</td>\n",
       "      <td>2155415</td>\n",
       "      <td>-42.78</td>\n",
       "      <td>38.44</td>\n",
       "      <td>92</td>\n",
       "      <td>100</td>\n",
       "      <td>2.68</td>\n",
       "    </tr>\n",
       "    <tr>\n",
       "      <th>8</th>\n",
       "      <td>Katobu</td>\n",
       "      <td>1640972</td>\n",
       "      <td>-4.94</td>\n",
       "      <td>72.66</td>\n",
       "      <td>86</td>\n",
       "      <td>85</td>\n",
       "      <td>2.75</td>\n",
       "    </tr>\n",
       "    <tr>\n",
       "      <th>9</th>\n",
       "      <td>Butaritari</td>\n",
       "      <td>2110227</td>\n",
       "      <td>3.07</td>\n",
       "      <td>80.28</td>\n",
       "      <td>85</td>\n",
       "      <td>100</td>\n",
       "      <td>10.45</td>\n",
       "    </tr>\n",
       "  </tbody>\n",
       "</table>\n",
       "</div>"
      ],
      "text/plain": [
       "           City Name  City ID  Latitude  Temp(F)  Humidity(%)  Cloudiness(%)  \\\n",
       "0  Pinotepa Nacional  3516926     16.32    85.69           68             94   \n",
       "1       Saint George  5546220     37.10   102.76           14              1   \n",
       "2            College  5859699     64.86    57.04           63             90   \n",
       "3           Khatanga  2022572     71.97    54.72           62              0   \n",
       "4         Nanortalik  3421765     60.14    47.30           93            100   \n",
       "5        Yellowknife  6185377     62.46    72.90           43             40   \n",
       "6            Rikitea  4030556    -23.12    72.25           76             95   \n",
       "7        New Norfolk  2155415    -42.78    38.44           92            100   \n",
       "8             Katobu  1640972     -4.94    72.66           86             85   \n",
       "9         Butaritari  2110227      3.07    80.28           85            100   \n",
       "\n",
       "   Wind Speed(mph)  \n",
       "0             7.43  \n",
       "1             6.93  \n",
       "2             8.05  \n",
       "3             3.31  \n",
       "4             9.17  \n",
       "5            10.29  \n",
       "6            18.43  \n",
       "7             2.68  \n",
       "8             2.75  \n",
       "9            10.45  "
      ]
     },
     "execution_count": 67,
     "metadata": {},
     "output_type": "execute_result"
    }
   ],
   "source": [
    "#Creating a dictionary of the weather stats for ecach city\n",
    "weather_dict = {\"City Name\": city_name,\n",
    "                \"City ID\": city_id, \n",
    "                \"Latitude\": lat, \n",
    "                \"Temp(F)\": temp,\n",
    "                \"Humidity(%)\": humid,\n",
    "                \"Cloudiness(%)\": clouds,\n",
    "                \"Wind Speed(mph)\": wind}\n",
    "\n",
    "#Making a dataframe table of the dictionary data\n",
    "weather_data = pd.DataFrame(weather_dict) \n",
    "\n",
    "#Exporting the data to a csv file without the Pandas index, but with the header\n",
    "weather_data.to_csv(\"out_put/weather_data.csv\", encoding=\"utf-8\", index=False, header=True)\n",
    "weather_data.head(10)"
   ]
  },
  {
   "cell_type": "markdown",
   "metadata": {},
   "source": [
    "## Inspect the data and remove the cities where the humidity > 100%.\n",
    "----\n",
    "Skip this step if there are no cities that have humidity > 100%. "
   ]
  },
  {
   "cell_type": "code",
   "execution_count": null,
   "metadata": {},
   "outputs": [],
   "source": [
    "too_humid = weather_data[\"Humidity(%)\"] > 100\n",
    "too_humid"
   ]
  },
  {
   "cell_type": "code",
   "execution_count": null,
   "metadata": {},
   "outputs": [],
   "source": [
    "#  Get the indices of cities that have humidity over 100%.\n"
   ]
  },
  {
   "cell_type": "code",
   "execution_count": null,
   "metadata": {},
   "outputs": [],
   "source": [
    "# Make a new DataFrame equal to the city data to drop all humidity outliers by index.\n",
    "# Passing \"inplace=False\" will make a copy of the city_data DataFrame, which we call \"clean_city_data\".\n"
   ]
  },
  {
   "cell_type": "code",
   "execution_count": null,
   "metadata": {},
   "outputs": [],
   "source": [
    "# Extract relevant fields from the data frame\n",
    "\n",
    "\n",
    "# Export the City_Data into a csv\n"
   ]
  },
  {
   "cell_type": "markdown",
   "metadata": {},
   "source": [
    "## Plotting the Data\n",
    "* Use proper labeling of the plots using plot titles (including date of analysis) and axes labels.\n",
    "* Save the plotted figures as .pngs."
   ]
  },
  {
   "cell_type": "markdown",
   "metadata": {},
   "source": [
    "## Latitude vs. Temperature Plot"
   ]
  },
  {
   "cell_type": "code",
   "execution_count": 73,
   "metadata": {
    "scrolled": true
   },
   "outputs": [
    {
     "data": {
      "image/png": "[encoded data removed]",
      "text/plain": [
       "<Figure size 432x288 with 1 Axes>"
      ]
     },
     "metadata": {
      "needs_background": "light"
     },
     "output_type": "display_data"
    }
   ],
   "source": [
    "# Plot the latitude of the city compared to its temperature\n",
    "city_lat = weather_data['Latitude']\n",
    "temp = weather_data['Temp(F)']\n",
    "plt.scatter(city_lat, temp)\n",
    "plt.xlabel('City Latitude')\n",
    "plt.ylabel('Temperature (F)')\n",
    "plt.title('Latitude vs Temperature', fontweight=\"black\")\n",
    "plt.show()"
   ]
  },
  {
   "cell_type": "markdown",
   "metadata": {},
   "source": [
    "## Latitude vs. Humidity Plot"
   ]
  },
  {
   "cell_type": "code",
   "execution_count": 74,
   "metadata": {},
   "outputs": [
    {
     "data": {
      "image/png": "[encoded data removed]",
      "text/plain": [
       "<Figure size 432x288 with 1 Axes>"
      ]
     },
     "metadata": {
      "needs_background": "light"
     },
     "output_type": "display_data"
    }
   ],
   "source": [
    "# Plot the latitude of the city compared to its humidity\n",
    "city_lat = weather_data['Latitude']\n",
    "humidity = weather_data['Humidity(%)']\n",
    "plt.scatter(city_lat, humidity)\n",
    "plt.xlabel('City Latitude')\n",
    "plt.ylabel('Humidity (%)')\n",
    "plt.title('Latitude vs Humidity', fontweight=\"black\")\n",
    "plt.show()"
   ]
  },
  {
   "cell_type": "markdown",
   "metadata": {},
   "source": [
    "## Latitude vs. Cloudiness Plot"
   ]
  },
  {
   "cell_type": "code",
   "execution_count": 75,
   "metadata": {},
   "outputs": [
    {
     "data": {
      "image/png": "[encoded data removed]",
      "text/plain": [
       "<Figure size 432x288 with 1 Axes>"
      ]
     },
     "metadata": {
      "needs_background": "light"
     },
     "output_type": "display_data"
    }
   ],
   "source": [
    "# Plot the latitude of the city compared to its cloudiness\n",
    "city_lat = weather_data['Latitude']\n",
    "clouds = weather_data['Cloudiness(%)']\n",
    "plt.scatter(city_lat, clouds)\n",
    "plt.xlabel('City Latitude')\n",
    "plt.ylabel('Cloudiness (%)')\n",
    "plt.title('Latitude vs Cloudiness', fontweight=\"black\")\n",
    "plt.show()"
   ]
  },
  {
   "cell_type": "markdown",
   "metadata": {},
   "source": [
    "## Latitude vs. Wind Speed Plot"
   ]
  },
  {
   "cell_type": "code",
   "execution_count": 85,
   "metadata": {},
   "outputs": [
    {
     "name": "stdout",
     "output_type": "stream",
     "text": [
      "The r-squared is: 0.006304872224507967\n"
     ]
    },
    {
     "data": {
      "image/png": "[encoded data removed]",
      "text/plain": [
       "<Figure size 432x288 with 1 Axes>"
      ]
     },
     "metadata": {
      "needs_background": "light"
     },
     "output_type": "display_data"
    }
   ],
   "source": [
    "# Plot the latitude of the city compared to its wind speed\n",
    "city_lat = weather_data['Latitude']\n",
    "wind = weather_data['Wind Speed(mph)']\n",
    "plt.scatter(city_lat, wind)\n",
    "plt.xlabel('City Latitude')\n",
    "plt.ylabel('Wind Speed (mph)')\n",
    "plt.title('Latitude vs Temperature', fontweight=\"black\")\n",
    "linear_regression(wind, city_lat)\n",
    "\n",
    "plt.show()"
   ]
  },
  {
   "cell_type": "markdown",
   "metadata": {},
   "source": [
    "## Linear Regression"
   ]
  },
  {
   "cell_type": "code",
   "execution_count": 78,
   "metadata": {},
   "outputs": [
    {
     "data": {
      "text/html": [
       "<div>\n",
       "<style scoped>\n",
       "    .dataframe tbody tr th:only-of-type {\n",
       "        vertical-align: middle;\n",
       "    }\n",
       "\n",
       "    .dataframe tbody tr th {\n",
       "        vertical-align: top;\n",
       "    }\n",
       "\n",
       "    .dataframe thead th {\n",
       "        text-align: right;\n",
       "    }\n",
       "</style>\n",
       "<table border=\"1\" class=\"dataframe\">\n",
       "  <thead>\n",
       "    <tr style=\"text-align: right;\">\n",
       "      <th></th>\n",
       "      <th>City Name</th>\n",
       "      <th>City ID</th>\n",
       "      <th>Latitude</th>\n",
       "      <th>Temp(F)</th>\n",
       "      <th>Humidity(%)</th>\n",
       "      <th>Cloudiness(%)</th>\n",
       "      <th>Wind Speed(mph)</th>\n",
       "    </tr>\n",
       "  </thead>\n",
       "  <tbody>\n",
       "    <tr>\n",
       "      <th>6</th>\n",
       "      <td>Rikitea</td>\n",
       "      <td>4030556</td>\n",
       "      <td>-23.12</td>\n",
       "      <td>72.25</td>\n",
       "      <td>76</td>\n",
       "      <td>95</td>\n",
       "      <td>18.43</td>\n",
       "    </tr>\n",
       "    <tr>\n",
       "      <th>7</th>\n",
       "      <td>New Norfolk</td>\n",
       "      <td>2155415</td>\n",
       "      <td>-42.78</td>\n",
       "      <td>38.44</td>\n",
       "      <td>92</td>\n",
       "      <td>100</td>\n",
       "      <td>2.68</td>\n",
       "    </tr>\n",
       "    <tr>\n",
       "      <th>8</th>\n",
       "      <td>Katobu</td>\n",
       "      <td>1640972</td>\n",
       "      <td>-4.94</td>\n",
       "      <td>72.66</td>\n",
       "      <td>86</td>\n",
       "      <td>85</td>\n",
       "      <td>2.75</td>\n",
       "    </tr>\n",
       "  </tbody>\n",
       "</table>\n",
       "</div>"
      ],
      "text/plain": [
       "     City Name  City ID  Latitude  Temp(F)  Humidity(%)  Cloudiness(%)  \\\n",
       "6      Rikitea  4030556    -23.12    72.25           76             95   \n",
       "7  New Norfolk  2155415    -42.78    38.44           92            100   \n",
       "8       Katobu  1640972     -4.94    72.66           86             85   \n",
       "\n",
       "   Wind Speed(mph)  \n",
       "6            18.43  \n",
       "7             2.68  \n",
       "8             2.75  "
      ]
     },
     "execution_count": 78,
     "metadata": {},
     "output_type": "execute_result"
    }
   ],
   "source": [
    "# If the city latitude is greater than zero it is in the northern hemisphere\n",
    "northern_data = weather_data.loc[weather_data['Latitude'] > 0]\n",
    "# If the city latitude is less than zero it is in the southern hemisphere\n",
    "southern_data = weather_data.loc[weather_data['Latitude'] < 0]"
   ]
  },
  {
   "cell_type": "code",
   "execution_count": 84,
   "metadata": {},
   "outputs": [],
   "source": [
    "#This function creates and plots a liner regression line and equation, and returns the r-squared value\n",
    "def linear_regression(weather, city_lat):\n",
    "    x_values = weather\n",
    "    y_values = city_lat\n",
    "    (slope, intercept, rvalue, pvalue, stderr) = linregress(x_values, y_values)\n",
    "    regress_values = x_values * slope + intercept\n",
    "    line_eq = \"y = \" + str(round(slope,2)) + \"x + \" + str(round(intercept,2))\n",
    "    plt.plot(x_values,regress_values,\"r-\")\n",
    "    plt.annotate(line_eq,(6,10),fontsize=15,color=\"red\")\n",
    "    return print(f\"The r-squared is: {rvalue**2}\")"
   ]
  },
  {
   "cell_type": "markdown",
   "metadata": {},
   "source": [
    "####  Northern Hemisphere - Max Temp vs. Latitude Linear Regression"
   ]
  },
  {
   "cell_type": "code",
   "execution_count": null,
   "metadata": {},
   "outputs": [],
   "source": [
    "#Passing in weather data and city latitude to the funtion that creates the linear regression "
   ]
  },
  {
   "cell_type": "code",
   "execution_count": null,
   "metadata": {},
   "outputs": [],
   "source": []
  },
  {
   "cell_type": "markdown",
   "metadata": {},
   "source": [
    "####  Southern Hemisphere - Max Temp vs. Latitude Linear Regression"
   ]
  },
  {
   "cell_type": "code",
   "execution_count": null,
   "metadata": {},
   "outputs": [],
   "source": []
  },
  {
   "cell_type": "markdown",
   "metadata": {},
   "source": [
    "####  Northern Hemisphere - Humidity (%) vs. Latitude Linear Regression"
   ]
  },
  {
   "cell_type": "code",
   "execution_count": null,
   "metadata": {},
   "outputs": [],
   "source": []
  },
  {
   "cell_type": "markdown",
   "metadata": {},
   "source": [
    "####  Southern Hemisphere - Humidity (%) vs. Latitude Linear Regression"
   ]
  },
  {
   "cell_type": "code",
   "execution_count": null,
   "metadata": {},
   "outputs": [],
   "source": []
  },
  {
   "cell_type": "markdown",
   "metadata": {},
   "source": [
    "####  Northern Hemisphere - Cloudiness (%) vs. Latitude Linear Regression"
   ]
  },
  {
   "cell_type": "code",
   "execution_count": null,
   "metadata": {},
   "outputs": [],
   "source": []
  },
  {
   "cell_type": "markdown",
   "metadata": {},
   "source": [
    "####  Southern Hemisphere - Cloudiness (%) vs. Latitude Linear Regression"
   ]
  },
  {
   "cell_type": "code",
   "execution_count": null,
   "metadata": {},
   "outputs": [],
   "source": []
  },
  {
   "cell_type": "markdown",
   "metadata": {},
   "source": [
    "####  Northern Hemisphere - Wind Speed (mph) vs. Latitude Linear Regression"
   ]
  },
  {
   "cell_type": "code",
   "execution_count": null,
   "metadata": {},
   "outputs": [],
   "source": []
  },
  {
   "cell_type": "markdown",
   "metadata": {},
   "source": [
    "####  Southern Hemisphere - Wind Speed (mph) vs. Latitude Linear Regression"
   ]
  },
  {
   "cell_type": "code",
   "execution_count": null,
   "metadata": {},
   "outputs": [],
   "source": []
  },
  {
   "cell_type": "code",
   "execution_count": null,
   "metadata": {},
   "outputs": [],
   "source": []
  }
 ],
 "metadata": {
  "anaconda-cloud": {},
  "kernel_info": {
   "name": "python3"
  },
  "kernelspec": {
   "display_name": "Python 3",
   "language": "python",
   "name": "python3"
  },
  "language_info": {
   "codemirror_mode": {
    "name": "ipython",
    "version": 3
   },
   "file_extension": ".py",
   "mimetype": "text/x-python",
   "name": "python",
   "nbconvert_exporter": "python",
   "pygments_lexer": "ipython3",
   "version": "3.7.6"
  },
  "latex_envs": {
   "LaTeX_envs_menu_present": true,
   "autoclose": false,
   "autocomplete": true,
   "bibliofile": "biblio.bib",
   "cite_by": "apalike",
   "current_citInitial": 1,
   "eqLabelWithNumbers": true,
   "eqNumInitial": 1,
   "hotkeys": {
    "equation": "Ctrl-E",
    "itemize": "Ctrl-I"
   },
   "labels_anchors": false,
   "latex_user_defs": false,
   "report_style_numbering": false,
   "user_envs_cfg": false
  },
  "nteract": {
   "version": "0.12.3"
  }
 },
 "nbformat": 4,
 "nbformat_minor": 2
}
