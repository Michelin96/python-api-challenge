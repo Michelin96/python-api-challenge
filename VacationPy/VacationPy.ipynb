{
 "cells": [
  {
   "cell_type": "markdown",
   "metadata": {},
   "source": [
    "# VacationPy\n",
    "* In this code, google maps is used to show the humidity at the random cities that were collected in WeatherPy. The weater data that was collected is used to locate several cities that meet an ideal vacation climate. The ideal weather chosen is between 70-83F with <10% cloudiness, wind <10 mph, and humidity < 45%. For each ideal climate location, the nearest hotel is found and marked on a map."
   ]
  },
  {
   "cell_type": "code",
   "execution_count": 1,
   "metadata": {},
   "outputs": [],
   "source": [
    "# Dependencies and Setup\n",
    "import matplotlib.pyplot as plt\n",
    "import pandas as pd\n",
    "import numpy as np\n",
    "import requests\n",
    "import gmaps\n",
    "import os\n",
    "import json\n",
    "\n",
    "#Using some tips from StackOverflow to suppress warnings\n",
    "#https://stackoverflow.com/questions/14463277/how-to-disable-python-warnings\n",
    "import warnings\n",
    "warnings.filterwarnings(\"ignore\")\n",
    "\n",
    "# Import API key\n",
    "from config import g_key"
   ]
  },
  {
   "cell_type": "markdown",
   "metadata": {},
   "source": [
    "### Store Part I results into DataFrame"
   ]
  },
  {
   "cell_type": "code",
   "execution_count": 2,
   "metadata": {
    "scrolled": true
   },
   "outputs": [
    {
     "data": {
      "text/html": [
       "<div>\n",
       "<style scoped>\n",
       "    .dataframe tbody tr th:only-of-type {\n",
       "        vertical-align: middle;\n",
       "    }\n",
       "\n",
       "    .dataframe tbody tr th {\n",
       "        vertical-align: top;\n",
       "    }\n",
       "\n",
       "    .dataframe thead th {\n",
       "        text-align: right;\n",
       "    }\n",
       "</style>\n",
       "<table border=\"1\" class=\"dataframe\">\n",
       "  <thead>\n",
       "    <tr style=\"text-align: right;\">\n",
       "      <th></th>\n",
       "      <th>City</th>\n",
       "      <th>Country</th>\n",
       "      <th>Latitude</th>\n",
       "      <th>Longitude</th>\n",
       "      <th>Max Temp(F)</th>\n",
       "      <th>Humidity(%)</th>\n",
       "      <th>Cloudiness(%)</th>\n",
       "      <th>Wind Speed(mph)</th>\n",
       "      <th>City Date/Time</th>\n",
       "    </tr>\n",
       "  </thead>\n",
       "  <tbody>\n",
       "    <tr>\n",
       "      <th>0</th>\n",
       "      <td>Gushikawa</td>\n",
       "      <td>JP</td>\n",
       "      <td>26.35</td>\n",
       "      <td>127.87</td>\n",
       "      <td>87.80</td>\n",
       "      <td>74</td>\n",
       "      <td>20</td>\n",
       "      <td>13.87</td>\n",
       "      <td>1596413633</td>\n",
       "    </tr>\n",
       "    <tr>\n",
       "      <th>1</th>\n",
       "      <td>Opuwo</td>\n",
       "      <td>NaN</td>\n",
       "      <td>-18.06</td>\n",
       "      <td>13.84</td>\n",
       "      <td>58.37</td>\n",
       "      <td>34</td>\n",
       "      <td>0</td>\n",
       "      <td>7.83</td>\n",
       "      <td>1596413371</td>\n",
       "    </tr>\n",
       "    <tr>\n",
       "      <th>2</th>\n",
       "      <td>Hermanus</td>\n",
       "      <td>ZA</td>\n",
       "      <td>-34.42</td>\n",
       "      <td>19.23</td>\n",
       "      <td>48.99</td>\n",
       "      <td>97</td>\n",
       "      <td>0</td>\n",
       "      <td>1.01</td>\n",
       "      <td>1596413633</td>\n",
       "    </tr>\n",
       "    <tr>\n",
       "      <th>3</th>\n",
       "      <td>Wattegama</td>\n",
       "      <td>LK</td>\n",
       "      <td>6.80</td>\n",
       "      <td>81.48</td>\n",
       "      <td>78.75</td>\n",
       "      <td>68</td>\n",
       "      <td>100</td>\n",
       "      <td>11.50</td>\n",
       "      <td>1596413633</td>\n",
       "    </tr>\n",
       "    <tr>\n",
       "      <th>4</th>\n",
       "      <td>Hithadhoo</td>\n",
       "      <td>MV</td>\n",
       "      <td>-0.60</td>\n",
       "      <td>73.08</td>\n",
       "      <td>83.10</td>\n",
       "      <td>75</td>\n",
       "      <td>51</td>\n",
       "      <td>10.18</td>\n",
       "      <td>1596413342</td>\n",
       "    </tr>\n",
       "  </tbody>\n",
       "</table>\n",
       "</div>"
      ],
      "text/plain": [
       "        City Country  Latitude  Longitude  Max Temp(F)  Humidity(%)  \\\n",
       "0  Gushikawa      JP     26.35     127.87        87.80           74   \n",
       "1      Opuwo     NaN    -18.06      13.84        58.37           34   \n",
       "2   Hermanus      ZA    -34.42      19.23        48.99           97   \n",
       "3  Wattegama      LK      6.80      81.48        78.75           68   \n",
       "4  Hithadhoo      MV     -0.60      73.08        83.10           75   \n",
       "\n",
       "   Cloudiness(%)  Wind Speed(mph)  City Date/Time  \n",
       "0             20            13.87      1596413633  \n",
       "1              0             7.83      1596413371  \n",
       "2              0             1.01      1596413633  \n",
       "3            100            11.50      1596413633  \n",
       "4             51            10.18      1596413342  "
      ]
     },
     "execution_count": 2,
     "metadata": {},
     "output_type": "execute_result"
    }
   ],
   "source": [
    "cities_list = pd.read_csv(\"../WeatherPY/out_put/cities.csv\")\n",
    "cities_list.head()"
   ]
  },
  {
   "cell_type": "markdown",
   "metadata": {},
   "source": [
    "### Humidity Heatmap"
   ]
  },
  {
   "cell_type": "code",
   "execution_count": 3,
   "metadata": {
    "scrolled": false
   },
   "outputs": [
    {
     "data": {
      "application/vnd.jupyter.widget-view+json": {
       "model_id": "e46da841a0ef436f9b640a89d1f284d1",
       "version_major": 2,
       "version_minor": 0
      },
      "text/plain": [
       "Figure(layout=FigureLayout(border='1px solid black', height='600px', margin='0 auto 0 auto', padding='1px', wi…"
      ]
     },
     "metadata": {},
     "output_type": "display_data"
    }
   ],
   "source": [
    "# Access maps with unique API key\n",
    "gmaps.configure(api_key=g_key) \n",
    "\n",
    "#Customize the size of the figure\n",
    "figure_layout = {\n",
    "    'width': '600px',\n",
    "    'height': '600px',\n",
    "    'border': '1px solid black',\n",
    "    'padding': '1px',\n",
    "    'margin': '0 auto 0 auto'\n",
    "}\n",
    "humidity_map = gmaps.figure(layout=figure_layout)\n",
    "\n",
    "#Creating a list of city coordinates from the cities list\n",
    "locations = cities_list[[\"Latitude\", \"Longitude\"]].astype(float)\n",
    "#Geting the humidity \n",
    "humidity = cities_list[\"Humidity(%)\"].astype(float)\n",
    "\n",
    "#Using city locations and humidity to creat a heat map\n",
    "heat_layer = gmaps.heatmap_layer(locations, weights=humidity)\n",
    "humidity_map.add_layer(heat_layer)\n",
    "\n",
    "# Displaying heatmap\n",
    "humidity_map "
   ]
  },
  {
   "cell_type": "markdown",
   "metadata": {},
   "source": [
    "### Create new DataFrame fitting weather criteria"
   ]
  },
  {
   "cell_type": "code",
   "execution_count": 5,
   "metadata": {
    "scrolled": true
   },
   "outputs": [
    {
     "data": {
      "text/html": [
       "<div>\n",
       "<style scoped>\n",
       "    .dataframe tbody tr th:only-of-type {\n",
       "        vertical-align: middle;\n",
       "    }\n",
       "\n",
       "    .dataframe tbody tr th {\n",
       "        vertical-align: top;\n",
       "    }\n",
       "\n",
       "    .dataframe thead th {\n",
       "        text-align: right;\n",
       "    }\n",
       "</style>\n",
       "<table border=\"1\" class=\"dataframe\">\n",
       "  <thead>\n",
       "    <tr style=\"text-align: right;\">\n",
       "      <th></th>\n",
       "      <th>City</th>\n",
       "      <th>Country</th>\n",
       "      <th>Latitude</th>\n",
       "      <th>Longitude</th>\n",
       "      <th>Max Temp(F)</th>\n",
       "      <th>Humidity(%)</th>\n",
       "      <th>Cloudiness(%)</th>\n",
       "      <th>Wind Speed(mph)</th>\n",
       "      <th>City Date/Time</th>\n",
       "    </tr>\n",
       "  </thead>\n",
       "  <tbody>\n",
       "    <tr>\n",
       "      <th>28</th>\n",
       "      <td>Jacareacanga</td>\n",
       "      <td>BR</td>\n",
       "      <td>-6.22</td>\n",
       "      <td>-57.75</td>\n",
       "      <td>76.33</td>\n",
       "      <td>43</td>\n",
       "      <td>4</td>\n",
       "      <td>0.89</td>\n",
       "      <td>1596413640</td>\n",
       "    </tr>\n",
       "    <tr>\n",
       "      <th>78</th>\n",
       "      <td>Coxim</td>\n",
       "      <td>BR</td>\n",
       "      <td>-18.51</td>\n",
       "      <td>-54.76</td>\n",
       "      <td>77.34</td>\n",
       "      <td>33</td>\n",
       "      <td>0</td>\n",
       "      <td>7.25</td>\n",
       "      <td>1596413654</td>\n",
       "    </tr>\n",
       "    <tr>\n",
       "      <th>396</th>\n",
       "      <td>Torbat-e Jām</td>\n",
       "      <td>IR</td>\n",
       "      <td>35.24</td>\n",
       "      <td>60.62</td>\n",
       "      <td>71.92</td>\n",
       "      <td>22</td>\n",
       "      <td>0</td>\n",
       "      <td>9.24</td>\n",
       "      <td>1596413735</td>\n",
       "    </tr>\n",
       "    <tr>\n",
       "      <th>403</th>\n",
       "      <td>Mizdah</td>\n",
       "      <td>LY</td>\n",
       "      <td>31.45</td>\n",
       "      <td>12.98</td>\n",
       "      <td>76.48</td>\n",
       "      <td>25</td>\n",
       "      <td>2</td>\n",
       "      <td>5.86</td>\n",
       "      <td>1596413737</td>\n",
       "    </tr>\n",
       "    <tr>\n",
       "      <th>417</th>\n",
       "      <td>Pozo Colorado</td>\n",
       "      <td>PY</td>\n",
       "      <td>-23.49</td>\n",
       "      <td>-58.80</td>\n",
       "      <td>76.78</td>\n",
       "      <td>43</td>\n",
       "      <td>1</td>\n",
       "      <td>7.09</td>\n",
       "      <td>1596413741</td>\n",
       "    </tr>\n",
       "    <tr>\n",
       "      <th>474</th>\n",
       "      <td>Dongsheng</td>\n",
       "      <td>CN</td>\n",
       "      <td>39.82</td>\n",
       "      <td>109.98</td>\n",
       "      <td>71.11</td>\n",
       "      <td>35</td>\n",
       "      <td>0</td>\n",
       "      <td>0.18</td>\n",
       "      <td>1596413755</td>\n",
       "    </tr>\n",
       "    <tr>\n",
       "      <th>514</th>\n",
       "      <td>Gazojak</td>\n",
       "      <td>TM</td>\n",
       "      <td>41.19</td>\n",
       "      <td>61.40</td>\n",
       "      <td>80.33</td>\n",
       "      <td>23</td>\n",
       "      <td>0</td>\n",
       "      <td>7.72</td>\n",
       "      <td>1596413766</td>\n",
       "    </tr>\n",
       "  </tbody>\n",
       "</table>\n",
       "</div>"
      ],
      "text/plain": [
       "              City Country  Latitude  Longitude  Max Temp(F)  Humidity(%)  \\\n",
       "28    Jacareacanga      BR     -6.22     -57.75        76.33           43   \n",
       "78           Coxim      BR    -18.51     -54.76        77.34           33   \n",
       "396   Torbat-e Jām      IR     35.24      60.62        71.92           22   \n",
       "403         Mizdah      LY     31.45      12.98        76.48           25   \n",
       "417  Pozo Colorado      PY    -23.49     -58.80        76.78           43   \n",
       "474      Dongsheng      CN     39.82     109.98        71.11           35   \n",
       "514        Gazojak      TM     41.19      61.40        80.33           23   \n",
       "\n",
       "     Cloudiness(%)  Wind Speed(mph)  City Date/Time  \n",
       "28               4             0.89      1596413640  \n",
       "78               0             7.25      1596413654  \n",
       "396              0             9.24      1596413735  \n",
       "403              2             5.86      1596413737  \n",
       "417              1             7.09      1596413741  \n",
       "474              0             0.18      1596413755  \n",
       "514              0             7.72      1596413766  "
      ]
     },
     "execution_count": 5,
     "metadata": {},
     "output_type": "execute_result"
    }
   ],
   "source": [
    "#My ideal weather is between 70-83F with <10% cloudiness, wind <10 mph, and humidity < 45%.\n",
    "#Find all the cites in the list with my ideal weather. \n",
    "ideal_weather = cities_list.loc[(cities_list[\"Cloudiness(%)\"] < 15) & ((cities_list[\"Max Temp(F)\"] > 70) & (cities_list[\"Max Temp(F)\"] < 83)) & (cities_list[\"Wind Speed(mph)\"] < 10) & (cities_list[\"Humidity(%)\"] < 45)]\n",
    "ideal_weather "
   ]
  },
  {
   "cell_type": "markdown",
   "metadata": {},
   "source": [
    "### Hotel Map"
   ]
  },
  {
   "cell_type": "code",
   "execution_count": 6,
   "metadata": {
    "scrolled": true
   },
   "outputs": [
    {
     "name": "stdout",
     "output_type": "stream",
     "text": [
      "Finding a hotel near: Jacareacanga.\n",
      "Closest lodging is Casa do Ian😎.\n",
      "------------\n",
      "Finding a hotel near: Coxim.\n",
      "Closest lodging is Hotel Avenida.\n",
      "------------\n",
      "Finding a hotel near: Torbat-e Jām.\n",
      "Closest lodging is ساختمان مسکونی فلورا.\n",
      "------------\n",
      "Finding a hotel near: Mizdah.\n",
      "Closest lodging is محمدالمبروك الاريقط.\n",
      "------------\n",
      "Finding a hotel near: Pozo Colorado.\n",
      "Closest lodging is Hospedaje la Amistad.\n",
      "------------\n",
      "Finding a hotel near: Dongsheng.\n",
      "Closest lodging is Crowne Plaza Ordos.\n",
      "------------\n",
      "Finding a hotel near: Gazojak.\n",
      "No lodging close by... skipping.\n",
      "------------\n"
     ]
    }
   ],
   "source": [
    "#Creating a hotel dataframe and adding a hotel name\n",
    "hotel_df = ideal_weather\n",
    "hotel_df[\"Hotel Name\"] =\"\"\n",
    "\n",
    "#Using google maps API to find a hotel\n",
    "base_url = \"https://maps.googleapis.com/maps/api/place/nearbysearch/json\"\n",
    "\n",
    "#Find a hotel near the cities with ideal weather     \n",
    "for index, row in hotel_df.iterrows():\n",
    "    \n",
    "    #Setting the parameters for the hotel search URL\n",
    "    locations = f\"{row['Latitude']}, {row['Longitude']}\"\n",
    "    params = {\"location\": locations,\"types\": \"lodging\",\"radius\": 5000,\"key\": g_key}\n",
    "    \n",
    "    #Assemble the URL and make API request\n",
    "    hotel_results = requests.get(base_url, params=params)\n",
    "    hotel = hotel_results.json()\n",
    "    \n",
    "    #List the city and the closest hotel\n",
    "    print(f\"Finding a hotel near: {row['City']}.\")\n",
    "    try:\n",
    "        print(f\"Closest lodging is {hotel['results'][0]['name']}.\")   \n",
    "        hotel_df.loc[index, 'Hotel Name'] = hotel['results'][0]['name']\n",
    "    except:\n",
    "        print(\"No lodging close by... skipping.\")\n",
    "        hotel_df.loc[index, 'Hotel Name'] = \"N/A\"\n",
    "    print(\"------------\")"
   ]
  },
  {
   "cell_type": "code",
   "execution_count": 7,
   "metadata": {
    "scrolled": false
   },
   "outputs": [
    {
     "data": {
      "text/html": [
       "<div>\n",
       "<style scoped>\n",
       "    .dataframe tbody tr th:only-of-type {\n",
       "        vertical-align: middle;\n",
       "    }\n",
       "\n",
       "    .dataframe tbody tr th {\n",
       "        vertical-align: top;\n",
       "    }\n",
       "\n",
       "    .dataframe thead th {\n",
       "        text-align: right;\n",
       "    }\n",
       "</style>\n",
       "<table border=\"1\" class=\"dataframe\">\n",
       "  <thead>\n",
       "    <tr style=\"text-align: right;\">\n",
       "      <th></th>\n",
       "      <th>City</th>\n",
       "      <th>Country</th>\n",
       "      <th>Latitude</th>\n",
       "      <th>Longitude</th>\n",
       "      <th>Hotel Name</th>\n",
       "    </tr>\n",
       "  </thead>\n",
       "  <tbody>\n",
       "    <tr>\n",
       "      <th>28</th>\n",
       "      <td>Jacareacanga</td>\n",
       "      <td>BR</td>\n",
       "      <td>-6.22</td>\n",
       "      <td>-57.75</td>\n",
       "      <td>Casa do Ian😎</td>\n",
       "    </tr>\n",
       "    <tr>\n",
       "      <th>78</th>\n",
       "      <td>Coxim</td>\n",
       "      <td>BR</td>\n",
       "      <td>-18.51</td>\n",
       "      <td>-54.76</td>\n",
       "      <td>Hotel Avenida</td>\n",
       "    </tr>\n",
       "    <tr>\n",
       "      <th>396</th>\n",
       "      <td>Torbat-e Jām</td>\n",
       "      <td>IR</td>\n",
       "      <td>35.24</td>\n",
       "      <td>60.62</td>\n",
       "      <td>ساختمان مسکونی فلورا</td>\n",
       "    </tr>\n",
       "    <tr>\n",
       "      <th>403</th>\n",
       "      <td>Mizdah</td>\n",
       "      <td>LY</td>\n",
       "      <td>31.45</td>\n",
       "      <td>12.98</td>\n",
       "      <td>محمدالمبروك الاريقط</td>\n",
       "    </tr>\n",
       "    <tr>\n",
       "      <th>417</th>\n",
       "      <td>Pozo Colorado</td>\n",
       "      <td>PY</td>\n",
       "      <td>-23.49</td>\n",
       "      <td>-58.80</td>\n",
       "      <td>Hospedaje la Amistad</td>\n",
       "    </tr>\n",
       "    <tr>\n",
       "      <th>474</th>\n",
       "      <td>Dongsheng</td>\n",
       "      <td>CN</td>\n",
       "      <td>39.82</td>\n",
       "      <td>109.98</td>\n",
       "      <td>Crowne Plaza Ordos</td>\n",
       "    </tr>\n",
       "  </tbody>\n",
       "</table>\n",
       "</div>"
      ],
      "text/plain": [
       "              City Country  Latitude  Longitude            Hotel Name\n",
       "28    Jacareacanga      BR     -6.22     -57.75          Casa do Ian😎\n",
       "78           Coxim      BR    -18.51     -54.76         Hotel Avenida\n",
       "396   Torbat-e Jām      IR     35.24      60.62  ساختمان مسکونی فلورا\n",
       "403         Mizdah      LY     31.45      12.98   محمدالمبروك الاريقط\n",
       "417  Pozo Colorado      PY    -23.49     -58.80  Hospedaje la Amistad\n",
       "474      Dongsheng      CN     39.82     109.98    Crowne Plaza Ordos"
      ]
     },
     "execution_count": 7,
     "metadata": {},
     "output_type": "execute_result"
    }
   ],
   "source": [
    "#Take out the cites that don't have lodging nearby\n",
    "no_hotel = hotel_df[hotel_df[\"Hotel Name\"] == \"N/A\"].index\n",
    "new_hotel_list = hotel_df.drop(no_hotel)\n",
    "final_hotel_list = new_hotel_list.dropna()\n",
    "final_hotel_list = final_hotel_list[[\"City\", \"Country\", \"Latitude\", \"Longitude\", \"Hotel Name\"]]\n",
    "final_hotel_list"
   ]
  },
  {
   "cell_type": "code",
   "execution_count": 8,
   "metadata": {
    "scrolled": false
   },
   "outputs": [],
   "source": [
    "# Using the template add the hotel info to the heatmap\n",
    "info_box_template = \"\"\"\n",
    "<dl>\n",
    "<dt>Name</dt><dd>{Hotel Name}</dd>\n",
    "<dt>City</dt><dd>{City}</dd>\n",
    "<dt>Country</dt><dd>{Country}</dd>\n",
    "</dl>\n",
    "\"\"\"\n",
    "# Store the DataFrame Row\n",
    "hotel_info = [info_box_template.format(**row) for index, row in final_hotel_list.iterrows()]\n",
    "\n",
    "#Get the Hotel locations \n",
    "locations =final_hotel_list[[\"Latitude\", \"Longitude\"]]"
   ]
  },
  {
   "cell_type": "code",
   "execution_count": 9,
   "metadata": {
    "scrolled": true
   },
   "outputs": [
    {
     "data": {
      "application/vnd.jupyter.widget-view+json": {
       "model_id": "e46da841a0ef436f9b640a89d1f284d1",
       "version_major": 2,
       "version_minor": 0
      },
      "text/plain": [
       "Figure(layout=FigureLayout(border='1px solid black', height='600px', margin='0 auto 0 auto', padding='1px', wi…"
      ]
     },
     "metadata": {},
     "output_type": "display_data"
    }
   ],
   "source": [
    "# Assign the marker and info box layer to a variable\n",
    "markers = gmaps.marker_layer(locations, info_box_content = hotel_info)\n",
    "\n",
    "# Add the layer to the humidity map\n",
    "humidity_map.add_layer(markers)\n",
    "\n",
    "#Show the map with the hotels in the ideal weather locations\n",
    "humidity_map"
   ]
  },
  {
   "cell_type": "code",
   "execution_count": null,
   "metadata": {},
   "outputs": [],
   "source": []
  }
 ],
 "metadata": {
  "kernelspec": {
   "display_name": "Python 3",
   "language": "python",
   "name": "python3"
  },
  "language_info": {
   "codemirror_mode": {
    "name": "ipython",
    "version": 3
   },
   "file_extension": ".py",
   "mimetype": "text/x-python",
   "name": "python",
   "nbconvert_exporter": "python",
   "pygments_lexer": "ipython3",
   "version": "3.7.6"
  },
  "latex_envs": {
   "LaTeX_envs_menu_present": true,
   "autoclose": false,
   "autocomplete": true,
   "bibliofile": "biblio.bib",
   "cite_by": "apalike",
   "current_citInitial": 1,
   "eqLabelWithNumbers": true,
   "eqNumInitial": 1,
   "hotkeys": {
    "equation": "Ctrl-E",
    "itemize": "Ctrl-I"
   },
   "labels_anchors": false,
   "latex_user_defs": false,
   "report_style_numbering": false,
   "user_envs_cfg": false
  }
 },
 "nbformat": 4,
 "nbformat_minor": 2
}
